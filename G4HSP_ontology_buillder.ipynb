{
  "nbformat": 4,
  "nbformat_minor": 0,
  "metadata": {
    "colab": {
      "provenance": []
    },
    "kernelspec": {
      "name": "python3",
      "display_name": "Python 3"
    },
    "language_info": {
      "name": "python"
    }
  },
  "cells": [
    {
      "cell_type": "code",
      "execution_count": null,
      "metadata": {
        "colab": {
          "base_uri": "https://localhost:8080/"
        },
        "id": "WW_cbCBSUADi",
        "outputId": "7f90b1ba-7e04-42fe-cfd3-8260b10fff1b"
      },
      "outputs": [
        {
          "output_type": "stream",
          "name": "stdout",
          "text": [
            "Looking in indexes: https://pypi.org/simple, https://us-python.pkg.dev/colab-wheels/public/simple/\n",
            "Collecting rdflib\n",
            "  Downloading rdflib-6.3.1-py3-none-any.whl (527 kB)\n",
            "\u001b[2K     \u001b[90m━━━━━━━━━━━━━━━━━━━━━━━━━━━━━━━━━━━━━━━\u001b[0m \u001b[32m527.0/527.0 KB\u001b[0m \u001b[31m6.9 MB/s\u001b[0m eta \u001b[36m0:00:00\u001b[0m\n",
            "\u001b[?25hRequirement already satisfied: pyparsing<4,>=2.1.0 in /usr/local/lib/python3.9/dist-packages (from rdflib) (3.0.9)\n",
            "Collecting isodate<0.7.0,>=0.6.0\n",
            "  Downloading isodate-0.6.1-py2.py3-none-any.whl (41 kB)\n",
            "\u001b[2K     \u001b[90m━━━━━━━━━━━━━━━━━━━━━━━━━━━━━━━━━━━━━━━━\u001b[0m \u001b[32m41.7/41.7 KB\u001b[0m \u001b[31m2.6 MB/s\u001b[0m eta \u001b[36m0:00:00\u001b[0m\n",
            "\u001b[?25hRequirement already satisfied: six in /usr/local/lib/python3.9/dist-packages (from isodate<0.7.0,>=0.6.0->rdflib) (1.15.0)\n",
            "Installing collected packages: isodate, rdflib\n",
            "Successfully installed isodate-0.6.1 rdflib-6.3.1\n"
          ]
        }
      ],
      "source": [
        "!pip install rdflib"
      ]
    },
    {
      "cell_type": "code",
      "source": [
        "from rdflib import URIRef, BNode, Literal, Namespace, Graph\n",
        "from rdflib.namespace import XSD, RDF, RDFS\n",
        "\n",
        "#define a namespace\n",
        "G4HSP_ns = Namespace('http://g4hsp.bio/') \n",
        "G4HSP = G4HSP_ns['G4HSP']\n",
        "HSP = G4HSP_ns['HSP']\n",
        "DISEASE = G4HSP_ns['DISEASE']\n"
      ],
      "metadata": {
        "id": "LDFsPWl4dD_u"
      },
      "execution_count": null,
      "outputs": []
    },
    {
      "cell_type": "code",
      "source": [
        "import pandas as pd"
      ],
      "metadata": {
        "id": "uSj8oHqxdu4k"
      },
      "execution_count": null,
      "outputs": []
    },
    {
      "cell_type": "code",
      "source": [
        "g = Graph()"
      ],
      "metadata": {
        "id": "laDpld-AmMqY"
      },
      "execution_count": null,
      "outputs": []
    },
    {
      "cell_type": "code",
      "source": [
        "g4hsp = pd.read_csv(\"G4HSP1.csv\")\n",
        "\n",
        "for row_id, row in g4hsp.iterrows():\n",
        "  # id = Literal(row['id'], lang='en')\n",
        "  hspName = Literal(row['hspName'], lang='en')\n",
        "  virusName = Literal(row['virusName'], lang='en')\n",
        "  g4PQS = Literal(row['g4PQS'], lang='en')\n",
        "  cellSurfaceURI  = URIRef(row['cellSurfaceURI'])\n",
        "  diseaseURI = URIRef(row['diseaseURI'])\n",
        "#delete these after you add ID\n",
        "  g.add((hspName, G4HSP_ns['g4PQS'] ,g4PQS))\n",
        "  g.add((hspName, DISEASE ,virusName))\n",
        "  g.add((hspName, G4HSP_ns['HostLocation'] ,cellSurfaceURI))\n",
        "  g.add((hspName, DISEASE ,diseaseURI))\n",
        "\n",
        "  # g.add((id, HSP, hspName))\n",
        "  #g.add((id, G4HSP_ns['g4PQS'] ,g4PQS))\n",
        "  #g.add((id, DISEASE ,virusName))\n",
        "  #g.add((id, G4HSP_ns['HostLocation'] ,cellSurfaceURI))\n",
        "  #g.add((id, DISEASE ,diseaseURI))\n"
      ],
      "metadata": {
        "id": "oQPUiAXId-jG"
      },
      "execution_count": null,
      "outputs": []
    },
    {
      "cell_type": "code",
      "source": [
        "hsp = pd.read_csv(\"HSP.csv\")\n",
        "\n",
        "for row_id, row in hsp.iterrows():\n",
        "  hspName = Literal(row['hspName'], lang='en')\n",
        "  hspURI = URIRef(row['hspURI'])\n",
        "\n",
        "  g.add((hspName, RDF.type,hspURI)) \n",
        "\n"
      ],
      "metadata": {
        "id": "CwGYKE6Fmhei"
      },
      "execution_count": null,
      "outputs": []
    },
    {
      "cell_type": "code",
      "source": [
        "disease = pd.read_csv(\"Disease.csv\")\n",
        "\n",
        "for row_id, row in disease.iterrows():\n",
        "  virusName = Literal(row['virusName'], lang='en')\n",
        "  diseaseURI = URIRef(row['diseaseURI'])\n",
        "\n",
        "  g.add((virusName, RDF.type,diseaseURI))"
      ],
      "metadata": {
        "id": "SYkwpKbHoii5"
      },
      "execution_count": null,
      "outputs": []
    },
    {
      "cell_type": "code",
      "source": [
        "hostLocation = pd.read_csv(\"hostLocation.csv\")\n",
        "\n",
        "for row_id, row in hostLocation.iterrows():\n",
        "  cd4Plus = Literal(row['cd4Plus'], lang='en')\n",
        "  mitochondrialURI = URIRef(row['mitochondrialURI'])\n",
        "  endoplasmicReticulumURI = URIRef(row['endoplasmicReticulumURI'])\n",
        "  cellInteriorURI = URIRef(row['cellInteriorURI'])\n",
        "  cellSurfaceURI = URIRef(row['cellSurfacURI'])\n",
        "\n",
        "  g.add((cd4Plus, RDF.type,mitochondrialURI))\n",
        "  g.add((cd4Plus, RDF.type,endoplasmicReticulumURI))\n",
        "  g.add((cd4Plus, RDF.type,cellInteriorURI))\n",
        "  g.add((cd4Plus, RDF.type,cellSurfaceURI))"
      ],
      "metadata": {
        "id": "pvSPKZmppGUO"
      },
      "execution_count": null,
      "outputs": []
    },
    {
      "cell_type": "code",
      "source": [
        "G4 = pd.read_csv(\"G4.csv\")\n",
        "\n",
        "for row_id, row in G4.iterrows():\n",
        "  g4PQS = Literal(row['g4PQS'], lang='en')\n",
        "  literal = Literal(row['literal'], lang='en')\n",
        "  g4ActivityType = Literal(row['g4ActivityType'], lang='en')\n",
        "  g.add((g4PQS, RDF.type, literal))\n",
        "  g.add((g4PQS, RDF.type, g4ActivityType))"
      ],
      "metadata": {
        "id": "NBNlHprEqFoY"
      },
      "execution_count": null,
      "outputs": []
    },
    {
      "cell_type": "code",
      "source": [
        "print(g.serialize(format='turtle'))"
      ],
      "metadata": {
        "colab": {
          "base_uri": "https://localhost:8080/"
        },
        "id": "hhutNx7ugjgG",
        "outputId": "eeb5f643-1905-4c67-c15c-720e480d1d21"
      },
      "execution_count": null,
      "outputs": [
        {
          "output_type": "stream",
          "name": "stdout",
          "text": [
            "@prefix ns1: <http://g4hsp.bio/> .\n",
            "\n",
            "\"hsp33\"@en ns1:Disease <https://disease-ontology.org/?id=DOID:526>,\n",
            "        \"hiv_1\"@en ;\n",
            "    ns1:HostLocation <https://www.ebi.ac.uk/QuickGO/term/GO:0033650> ;\n",
            "    ns1:g4PQS \"G3+L1–7\"@en .\n",
            "\n",
            "\"hsp40\"@en a <https://www.sinobiological.com/recombinant-proteins/human-hsp70-11660-h07h> ;\n",
            "    ns1:Disease <https://disease-ontology.org/?id=DOID:526>,\n",
            "        \"hiv_1\"@en ;\n",
            "    ns1:HostLocation <https://www.ebi.ac.uk/QuickGO/term/GO:0033650> ;\n",
            "    ns1:g4PQS \"G3+L1–12\"@en .\n",
            "\n",
            "\"hsp60\"@en a <https://www.sinobiological.com/recombinant-proteins/human-hsp70-11660-h07h> ;\n",
            "    ns1:Disease <https://disease-ontology.org/?id=DOID:526>,\n",
            "        \"hiv_1\"@en ;\n",
            "    ns1:HostLocation <https://www.ebi.ac.uk/QuickGO/term/GO:0044233> ;\n",
            "    ns1:g4PQS \"G2L1–12\"@en .\n",
            "\n",
            "\"hsp70\"@en a <https://www.sinobiological.com/recombinant-proteins/human-hsp70-11660-h07h> ;\n",
            "    ns1:Disease <https://disease-ontology.org/?id=DOID:526>,\n",
            "        \"hiv_1\"@en ;\n",
            "    ns1:HostLocation <https://www.ebi.ac.uk/QuickGO/term/GO:0044233> ;\n",
            "    ns1:g4PQS \"G3+L8–12\"@en .\n",
            "\n",
            "\"hsp90\"@en a <https://www.sinobiological.com/recombinant-proteins/human-hsp70-11660-h07h> ;\n",
            "    ns1:Disease <https://disease-ontology.org/?id=DOID:526>,\n",
            "        \"hiv_1\"@en ;\n",
            "    ns1:HostLocation <https://www.ebi.ac.uk/QuickGO/term/GO:0048312> ;\n",
            "    ns1:g4PQS \"G2+L1–12\"@en .\n",
            "\n",
            "\n"
          ]
        }
      ]
    },
    {
      "cell_type": "code",
      "source": [],
      "metadata": {
        "id": "6PjQWPkykzup"
      },
      "execution_count": null,
      "outputs": []
    }
  ]
}